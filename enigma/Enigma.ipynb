{
  "nbformat": 4,
  "nbformat_minor": 0,
  "metadata": {
    "colab": {
      "provenance": [],
      "gpuType": "T4"
    },
    "kernelspec": {
      "name": "python3",
      "display_name": "Python 3"
    },
    "language_info": {
      "name": "python"
    },
    "accelerator": "GPU"
  },
  "cells": [
    {
      "cell_type": "code",
      "execution_count": 1,
      "metadata": {
        "colab": {
          "base_uri": "https://localhost:8080/"
        },
        "id": "WXpJBLyr30Rx",
        "outputId": "67f31382-511c-4cfe-e076-fa4803eb61fa"
      },
      "outputs": [
        {
          "output_type": "stream",
          "name": "stdout",
          "text": [
            "Mounted at /content/drive\n"
          ]
        }
      ],
      "source": [
        "from google.colab import drive\n",
        "drive.mount('/content/drive')"
      ]
    },
    {
      "cell_type": "code",
      "source": [
        "import torch\n",
        "\n",
        "# importing the data\n",
        "file_path = '/content/drive/MyDrive/train1.txt'\n",
        "with open(file_path, 'r', encoding='utf-8') as file:\n",
        "  captions = file.read()\n",
        "\n",
        "print(f\"{(len(captions)/1e6):.2f} million letters\")\n",
        "\n",
        "# total no of chars and vocab size\n",
        "chars = sorted(list(set(captions)))\n",
        "vocab_size = len(chars)\n",
        "print(chars)\n",
        "print(vocab_size)"
      ],
      "metadata": {
        "colab": {
          "base_uri": "https://localhost:8080/"
        },
        "id": "r7WUm0VL4bN4",
        "outputId": "97cdb5a5-2ea4-4603-acc3-495df27af4f1"
      },
      "execution_count": 4,
      "outputs": [
        {
          "output_type": "stream",
          "name": "stdout",
          "text": [
            "485.52 million letters\n",
            "['\\n', 'A', 'C', 'G', 'T']\n",
            "5\n"
          ]
        }
      ]
    },
    {
      "cell_type": "code",
      "source": [
        "# map of characters to integers\n",
        "stoi = { ch:i for i,ch in enumerate(chars) }\n",
        "itos = { i:ch for i,ch in enumerate(chars) }\n",
        "encode = lambda s: [stoi[c] for c in s] # encoder: take a string, output a list of integers\n",
        "decode = lambda l: ''.join([itos[i] for i in l]) # decoder: take a list of integers, output a string\n",
        "\n",
        "# Train and test splits\n",
        "data = torch.tensor(encode(captions), dtype=torch.long)\n",
        "n = int(0.9*len(data)) # first 90% will be train, rest val\n",
        "train_data = data[:n]\n",
        "val_data = data[n:]\n",
        "print(f\"train data {(len(train_data)/1e6):.2f}million, val data {(len(val_data)/1e6):.2f}million\")"
      ],
      "metadata": {
        "colab": {
          "base_uri": "https://localhost:8080/"
        },
        "id": "1naFIJEG4XOb",
        "outputId": "7358d14d-24ba-4b71-d73d-45222fa6e2cf"
      },
      "execution_count": 5,
      "outputs": [
        {
          "output_type": "stream",
          "name": "stdout",
          "text": [
            "train data 436.97million, val data 48.55million\n"
          ]
        }
      ]
    },
    {
      "cell_type": "code",
      "source": [
        "import torch.nn as nn\n",
        "from torch.nn import functional as F\n",
        "\n",
        "device = 'cuda' if torch.cuda.is_available() else 'cpu'\n",
        "\n",
        "# hyperparams\n",
        "batch_size = 10\n",
        "block_size = 64\n",
        "max_iters = 1000\n",
        "eval_interval = 50\n",
        "learning_rate = 3e-4\n",
        "eval_iters = 10\n",
        "d_model = 384\n",
        "n_layer = 20\n",
        "n_head = 20\n",
        "dropout = 0.2\n",
        "norm_eps = 1e-5\n",
        "\n",
        "torch.manual_seed(1400)\n",
        "\n",
        "# data loading\n",
        "def get_batch(split):\n",
        "    # generate a small batch of data of inputs x and targets y\n",
        "    data = train_data if split == 'train' else val_data\n",
        "    ix = torch.randint(len(data) - block_size, (batch_size,))\n",
        "    x = torch.stack([data[i:i+block_size] for i in ix])\n",
        "    y = torch.stack([data[i+1:i+block_size+1] for i in ix])\n",
        "    x, y = x.to(device), y.to(device)\n",
        "    return x, y\n",
        "\n",
        "@torch.no_grad()\n",
        "def estimate_loss():\n",
        "    out = {}\n",
        "    model.eval()\n",
        "    for split in ['train', 'val']:\n",
        "        losses = torch.zeros(eval_iters)\n",
        "        for k in range(eval_iters):\n",
        "            X, Y = get_batch(split)\n",
        "            logits, loss = model(X, Y)\n",
        "            losses[k] = loss.item()\n",
        "        out[split] = losses.mean()\n",
        "    model.train()\n",
        "    return out\n",
        "\n",
        "class SWiGLU(nn.Module):\n",
        "  \"\"\" SWiGLU(x) = σ(x) ⊙ ReLU(x) + (1−σ(x)) ⊙ x \"\"\"\n",
        "\n",
        "  def forward(self, x):\n",
        "    sigmoid_output = torch.sigmoid(x)\n",
        "    relu_output = F.relu(x)\n",
        "    out = sigmoid_output * relu_output + (1 - sigmoid_output) * x\n",
        "\n",
        "    return out\n",
        "\n",
        "class UnMaskedHead(nn.Module):\n",
        "  \"\"\" single head of self attention \"\"\"\n",
        "  def __init__(self, d_model, head_size, dropout):\n",
        "    super().__init__()\n",
        "    self.key = nn.Linear(d_model, head_size, bias=True)\n",
        "    self.query = nn.Linear(d_model, head_size, bias=True)\n",
        "    self.value = nn.Linear(d_model, head_size, bias=True)\n",
        "    self.dropout = nn.Dropout(dropout)\n",
        "\n",
        "  def forward(self, x):\n",
        "    B, T, C = x.shape\n",
        "    key = self.key(x)\n",
        "    query = self.query(x)\n",
        "\n",
        "    weights = query @ key.transpose(-2, -1) * key.shape[-1]**-0.5\n",
        "    weights = F.softmax(weights, dim=-1)\n",
        "    weights = self.dropout(weights)\n",
        "\n",
        "    value = self.value(x)\n",
        "    out = weights @ value\n",
        "    return out\n",
        "\n",
        "class MaskedHead(nn.Module):\n",
        "  \"\"\" one head of self-attention \"\"\"\n",
        "  def __init__(self, head_size, dropout, d_model):\n",
        "    super().__init__()\n",
        "    self.key = nn.Linear(d_model, head_size, bias=True)\n",
        "    self.query = nn.Linear(d_model, head_size, bias=True)\n",
        "    self.value = nn.Linear(d_model, head_size, bias=True)\n",
        "    self.register_buffer('tril', torch.tril(torch.ones(block_size, block_size)))\n",
        "\n",
        "    self.dropout = nn.Dropout(dropout)\n",
        "\n",
        "  def forward(self, x):\n",
        "    B,T,C = x.shape\n",
        "    k = self.key(x)\n",
        "    q = self.query(x)\n",
        "\n",
        "    wei = q @ k.transpose(-2,-1) * k.shape[-1]**-0.5 # (B, T, hs) @ (B, hs, T) -> (B, T, T)\n",
        "    wei = wei.masked_fill(self.tril[:T, :T] == 0, float('-inf')) # (B, T, T)\n",
        "    wei = F.softmax(wei, dim=-1) # (B, T, T)\n",
        "    wei = self.dropout(wei)\n",
        "\n",
        "    v = self.value(x)\n",
        "    out = wei @ v\n",
        "    return out\n",
        "\n",
        "class MultiUnMasked(nn.Module):\n",
        "  def __init__(self, d_model, n_head, dropout):\n",
        "    head_size = d_model // n_head\n",
        "    super().__init__()\n",
        "    self.heads = nn.ModuleList([UnMaskedHead(d_model=d_model, dropout=dropout, head_size=head_size) for _ in range(n_head)])\n",
        "    self.proj = nn.Linear(n_head * head_size, d_model)\n",
        "    self.dropout = nn.Dropout(dropout)\n",
        "\n",
        "  def forward(self, x):\n",
        "    out = torch.cat([h(x) for h in self.heads], dim=-1)\n",
        "    out = self.dropout(self.proj(out))\n",
        "    return out\n",
        "\n",
        "class MultiMasked(nn.Module):\n",
        "  def __init__(self, d_model, n_head, dropout):\n",
        "    head_size = d_model // n_head\n",
        "    super().__init__()\n",
        "    self.heads = nn.ModuleList([MaskedHead(d_model=d_model, dropout=dropout, head_size=head_size) for _ in range(n_head)])\n",
        "    self.proj = nn.Linear(n_head * head_size, d_model)\n",
        "    self.dropout = nn.Dropout(dropout)\n",
        "\n",
        "  def forward(self, x):\n",
        "    out = torch.cat([h(x) for h in self.heads], dim=-1)\n",
        "    out = self.dropout(self.proj(out))\n",
        "    return out\n",
        "\n",
        "class FeedForward(nn.Module):\n",
        "  def __init__(self, d_model, dropout):\n",
        "    super().__init__()\n",
        "    self.net = nn.Sequential(\n",
        "      nn.Linear(d_model, 4*d_model),\n",
        "      nn.GELU(),\n",
        "      nn.Linear(4*d_model, d_model),\n",
        "      nn.Dropout(dropout)\n",
        "    )\n",
        "\n",
        "  def forward(self, x):\n",
        "    return self.net(x)\n",
        "\n",
        "class Block(nn.Module):\n",
        "  def __init__(self, d_model, n_head, norm_eps, dropout):\n",
        "    super().__init__()\n",
        "    self.sa_masked = MultiMasked(n_head=n_head, d_model=d_model, dropout=dropout)\n",
        "    self.sa_unmasked = MultiUnMasked(n_head=n_head, d_model=d_model, dropout=dropout)\n",
        "    self.ffwd = FeedForward(d_model, dropout=dropout)\n",
        "    self.norm1 = nn.LayerNorm(d_model, eps=norm_eps)\n",
        "    self.norm2 = nn.LayerNorm(d_model, eps=norm_eps)\n",
        "\n",
        "  def forward(self, x):\n",
        "    x2 = x + self.sa_unmasked(self.norm1(x))\n",
        "    x = x2 + self.ffwd(self.norm2(x2))\n",
        "\n",
        "    x2 = x + self.sa_masked(self.norm1(x))\n",
        "    x = x2 + self.ffwd(self.norm2(x2))\n",
        "    return x\n",
        "\n",
        "class Enigma(nn.Module):\n",
        "  def __init__(self):\n",
        "    super().__init__()\n",
        "    self.toked_model = nn.Embedding(vocab_size, d_model)\n",
        "    self.pos_encod = nn.Embedding(block_size, d_model)\n",
        "    self.block = nn.Sequential(*[Block(d_model=d_model, dropout=dropout, norm_eps=norm_eps, n_head=n_head) for _ in range(n_layer)])\n",
        "    self.norm_final = nn.LayerNorm(d_model, eps=norm_eps)\n",
        "    self.linear_final = nn.Linear(d_model, vocab_size)\n",
        "    self.apply(self._init_weights)\n",
        "\n",
        "\n",
        "  def _init_weights(self, module):\n",
        "    if isinstance(module, nn.Linear):\n",
        "      torch.nn.init.normal_(module.weight, mean=0.0, std=0.02)\n",
        "      if module.bias is not None:\n",
        "        torch.nn.init.zeros_(module.bias.data)\n",
        "    elif isinstance(module, nn.Embedding):\n",
        "      torch.nn.init.normal_(module.weight, mean=0.0, std=0.02)\n",
        "\n",
        "  def forward(self, idx, targets=None):\n",
        "    B, T = idx.shape\n",
        "\n",
        "    toked_model = self.toked_model(idx)\n",
        "    pos_encod = self.pos_encod(torch.arange(T, device=device))\n",
        "    x = toked_model + pos_encod\n",
        "    x = self.block(x)\n",
        "    x = self.norm_final(x)\n",
        "    logits = self.linear_final(x)\n",
        "\n",
        "    if targets is None:\n",
        "      loss = None\n",
        "\n",
        "    else:\n",
        "      B, T, C = logits.shape\n",
        "      logits = logits.view(B*T, C)\n",
        "      targets = targets.view(B*T)\n",
        "      loss = F.cross_entropy(logits, targets)\n",
        "\n",
        "    return logits, loss\n",
        "\n",
        "  def complex_generate(self, idx, max_new_tokens, temperature=1.0, top_k=3, beam_width=5):\n",
        "    beam = [(idx, 0)]  # start with the initial sequence and its log probability\n",
        "    completed_beams = []\n",
        "\n",
        "    for _ in range(max_new_tokens):\n",
        "      new_beam = []\n",
        "\n",
        "      for current_idx, log_prob in beam:\n",
        "        idx_cond = current_idx[:, -block_size:]\n",
        "        logits, _ = self(idx_cond)\n",
        "        logits = logits[:, -1, :]  # (B, C)\n",
        "\n",
        "        # temperature scaling\n",
        "        scaled_logits = logits / temperature\n",
        "\n",
        "        # top-k sampling\n",
        "        if top_k > 0:\n",
        "          scaled_logits = self._top_k_filtering(scaled_logits, top_k)\n",
        "\n",
        "        # softmax\n",
        "        probs = F.softmax(scaled_logits, dim=-1)  # (B, C)\n",
        "\n",
        "        # sample from the distribution\n",
        "        sampled_idx = torch.multinomial(probs, num_samples=beam_width)  # (B, beam_width)\n",
        "\n",
        "        # expand the beam\n",
        "        for i in range(beam_width):\n",
        "          new_idx = torch.cat((current_idx, sampled_idx[:, i:i+1]), dim=1)\n",
        "          new_log_prob = log_prob + torch.log(probs[:, sampled_idx[:, i]])\n",
        "          new_beam.append((new_idx, new_log_prob.item()))\n",
        "\n",
        "        # sort new beam by log probabilities\n",
        "        new_beam = sorted(new_beam, key=lambda x: x[1], reverse=True)\n",
        "        beam = new_beam[:beam_width] # only top beams\n",
        "\n",
        "    completed_beams.append(beam)\n",
        "    completed_beams = list(sorted(completed_beams, key=lambda x: x[1], reverse=True))\n",
        "\n",
        "    return completed_beams\n",
        "\n",
        "  def _top_k_filtering(self, logits, top_k):\n",
        "    values, indices = torch.topk(logits, top_k, dim=-1)\n",
        "    min_value = values[:, -1].unsqueeze(-1).expand_as(logits)\n",
        "    filtered_logits = torch.where(logits < min_value, torch.ones_like(logits) * -float('inf'), logits)\n",
        "    return filtered_logits\n",
        "\n",
        "  def generate(self, idx, max_new_tokens):\n",
        "    # idx is (B, T) array of indices in the current context\n",
        "    for _ in range(max_new_tokens):\n",
        "      # crop idx to the last block_size tokens\n",
        "      idx_cond = idx[:, -block_size:]\n",
        "      # get the predictions\n",
        "      logits, loss = self(idx_cond)\n",
        "      # focus only on the last time step\n",
        "      logits = logits[:, -1, :] # becomes (B, C)\n",
        "      # apply softmax to get probabilities\n",
        "      probs = F.softmax(logits, dim=-1) # (B, C)\n",
        "      # sample from the distribution\n",
        "      idx_next = torch.multinomial(probs, num_samples=1) # (B, 1)\n",
        "      # append sampled index to the running sequence\n",
        "      idx = torch.cat((idx, idx_next), dim=1) # (B, T+1)\n",
        "    return idx\n",
        "\n",
        "model = Enigma()\n",
        "m = model.to(device)\n",
        "\n",
        "# no of parameters\n",
        "n_param = sum(p.numel() for p in m.parameters())/1e6\n",
        "print(f\"{n_param:.2f} million\")\n",
        "\n",
        "# optimizer\n",
        "optimizer = torch.optim.AdamW(model.parameters(), lr=learning_rate)\n",
        "steps = []\n",
        "train_losses = []\n",
        "val_losses = []\n",
        "\n",
        "for iter in range(max_iters):\n",
        "\n",
        "  if iter % eval_interval == 0 or iter == max_iters - 1:\n",
        "    losses = estimate_loss()\n",
        "    print(f\"step {iter}: train loss {losses['train']:.4f}, val loss {losses['val']:.4f}\")\n",
        "\n",
        "    steps.append(iter)\n",
        "    train_losses.append(losses['train'])\n",
        "    val_losses.append(losses['val'])\n",
        "\n",
        "  xb, yb = get_batch('train')\n",
        "  logits, loss = model(xb, yb)\n",
        "  optimizer.zero_grad(set_to_none=True)\n",
        "  loss.backward()\n",
        "  optimizer.step()"
      ],
      "metadata": {
        "colab": {
          "base_uri": "https://localhost:8080/"
        },
        "id": "Y-tujlV64Lzo",
        "outputId": "c953c086-ef2c-4f28-d034-320f57755a81"
      },
      "execution_count": 8,
      "outputs": [
        {
          "output_type": "stream",
          "name": "stdout",
          "text": [
            "47.10 million\n",
            "step 0: train loss 1.7512, val loss 1.7694\n",
            "step 100: train loss 1.3747, val loss 1.3551\n",
            "step 200: train loss 1.3554, val loss 1.3393\n",
            "step 300: train loss 1.3343, val loss 1.3292\n",
            "step 400: train loss 1.3409, val loss 1.3244\n",
            "step 500: train loss 1.0024, val loss 1.0057\n",
            "step 600: train loss 0.0534, val loss 0.0528\n",
            "step 700: train loss 0.0379, val loss 0.0378\n",
            "step 800: train loss 0.0549, val loss 0.0487\n",
            "step 900: train loss 0.0281, val loss 0.0263\n",
            "step 999: train loss 0.0266, val loss 0.0256\n"
          ]
        }
      ]
    },
    {
      "cell_type": "code",
      "source": [
        "torch.save(model.state_dict(), f'enigma_{n_param:.0f}m.pth')"
      ],
      "metadata": {
        "id": "qZIU_agX4Qxq"
      },
      "execution_count": 9,
      "outputs": []
    },
    {
      "cell_type": "code",
      "source": [
        "target_text = \"AGTTCTGCGAT\"\n",
        "context = torch.tensor([encode(target_text)], dtype=torch.long, device=device)\n",
        "generated_output = decode(m.generate(context, max_new_tokens=10)[0].tolist())\n",
        "print(generated_output)"
      ],
      "metadata": {
        "colab": {
          "base_uri": "https://localhost:8080/"
        },
        "id": "c5CknylV4S2m",
        "outputId": "a8264b4f-dbce-4055-d0f9-27e8245a4792"
      },
      "execution_count": 10,
      "outputs": [
        {
          "output_type": "stream",
          "name": "stdout",
          "text": [
            "AGTTCTGCGATGACAGTGCGC\n"
          ]
        }
      ]
    },
    {
      "cell_type": "code",
      "source": [
        "import matplotlib.pyplot as plt\n",
        "\n",
        "plt.figure(figsize=(10, 6))\n",
        "plt.plot(steps, train_losses, label='Train Loss')\n",
        "plt.plot(steps, val_losses, label='Validation Loss')\n",
        "plt.title('Loss Over Steps')\n",
        "plt.xlabel('Steps')\n",
        "plt.ylabel('Loss')\n",
        "plt.legend()\n",
        "\n",
        "plt.show()"
      ],
      "metadata": {
        "colab": {
          "base_uri": "https://localhost:8080/",
          "height": 564
        },
        "id": "SDfLr03R4Uty",
        "outputId": "6bd071a2-a87b-47e0-d45c-2a1a03ba18ec"
      },
      "execution_count": 11,
      "outputs": [
        {
          "output_type": "display_data",
          "data": {
            "text/plain": [
              "<Figure size 1000x600 with 1 Axes>"
            ],
            "image/png": "[encoded data removed]"
          },
          "metadata": {}
        }
      ]
    }
  ]
}